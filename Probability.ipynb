{
 "cells": [
  {
   "cell_type": "code",
   "execution_count": 1,
   "id": "62534ad3",
   "metadata": {},
   "outputs": [],
   "source": [
    "import pandas as pd\n",
    "import numpy as np\n",
    "import seaborn as sns\n",
    "import matplotlib.pyplot as  plt"
   ]
  },
  {
   "cell_type": "markdown",
   "id": "c3637d09",
   "metadata": {},
   "source": [
    "# pmf (probability mass function) \n",
    "* for discrete variable's "
   ]
  },
  {
   "cell_type": "code",
   "execution_count": 11,
   "id": "5707de0d",
   "metadata": {},
   "outputs": [],
   "source": [
    "import random\n",
    "L = []\n",
    "for i in range(1000):\n",
    "    L.append(random.randint(1,6))"
   ]
  },
  {
   "cell_type": "code",
   "execution_count": 9,
   "id": "bf6ac2e4",
   "metadata": {},
   "outputs": [
    {
     "data": {
      "text/plain": [
       "[2, 5, 2, 6, 3]"
      ]
     },
     "execution_count": 9,
     "metadata": {},
     "output_type": "execute_result"
    }
   ],
   "source": [
    "L[:5]"
   ]
  },
  {
   "cell_type": "code",
   "execution_count": 14,
   "id": "b21004b9",
   "metadata": {},
   "outputs": [
    {
     "data": {
      "text/plain": [
       "1    0.143\n",
       "2    0.172\n",
       "3    0.162\n",
       "4    0.188\n",
       "5    0.171\n",
       "6    0.164\n",
       "dtype: float64"
      ]
     },
     "execution_count": 14,
     "metadata": {},
     "output_type": "execute_result"
    }
   ],
   "source": [
    "s=(pd.Series(L).value_counts()/ pd.Series(L).value_counts().sum()).sort_index()\n",
    "s"
   ]
  },
  {
   "cell_type": "code",
   "execution_count": 18,
   "id": "8df2b461",
   "metadata": {},
   "outputs": [
    {
     "name": "stdout",
     "output_type": "stream",
     "text": [
      "AxesSubplot(0.125,0.125;0.775x0.755)\n"
     ]
    },
    {
     "data": {
      "image/png": "[encoded data removed]",
      "text/plain": [
       "<Figure size 432x288 with 1 Axes>"
      ]
     },
     "metadata": {
      "needs_background": "light"
     },
     "output_type": "display_data"
    }
   ],
   "source": [
    "print(s.plot(kind=\"kde\"))\n"
   ]
  },
  {
   "cell_type": "code",
   "execution_count": 19,
   "id": "32276eb6",
   "metadata": {},
   "outputs": [
    {
     "name": "stdout",
     "output_type": "stream",
     "text": [
      "AxesSubplot(0.125,0.125;0.775x0.755)\n"
     ]
    },
    {
     "data": {
      "image/png": "[encoded data removed]",
      "text/plain": [
       "<Figure size 432x288 with 1 Axes>"
      ]
     },
     "metadata": {
      "needs_background": "light"
     },
     "output_type": "display_data"
    }
   ],
   "source": [
    "print(s.plot(kind=\"bar\"))\n"
   ]
  },
  {
   "cell_type": "code",
   "execution_count": 20,
   "id": "0122b2ac",
   "metadata": {},
   "outputs": [],
   "source": [
    "# now roll two 🎲 at a time"
   ]
  },
  {
   "cell_type": "code",
   "execution_count": 21,
   "id": "e9d07973",
   "metadata": {},
   "outputs": [],
   "source": [
    "import random\n",
    "M = []\n",
    "for i in range(1000):\n",
    "    a = random.randint(1,6)\n",
    "    b = random.randint(1,6)\n",
    "    M.append(a+b)"
   ]
  },
  {
   "cell_type": "code",
   "execution_count": 23,
   "id": "4bd49bd3",
   "metadata": {},
   "outputs": [
    {
     "data": {
      "text/plain": [
       "[7, 8, 3, 4, 7]"
      ]
     },
     "execution_count": 23,
     "metadata": {},
     "output_type": "execute_result"
    }
   ],
   "source": [
    "M[:5]"
   ]
  },
  {
   "cell_type": "code",
   "execution_count": 25,
   "id": "15312f04",
   "metadata": {},
   "outputs": [
    {
     "data": {
      "text/plain": [
       "2     0.025\n",
       "3     0.069\n",
       "4     0.104\n",
       "5     0.103\n",
       "6     0.131\n",
       "7     0.162\n",
       "8     0.130\n",
       "9     0.113\n",
       "10    0.089\n",
       "11    0.047\n",
       "12    0.027\n",
       "dtype: float64"
      ]
     },
     "execution_count": 25,
     "metadata": {},
     "output_type": "execute_result"
    }
   ],
   "source": [
    "t= (pd.Series(M).value_counts() / pd.Series(M).value_counts().sum()).sort_index()\n",
    "t"
   ]
  },
  {
   "cell_type": "code",
   "execution_count": 26,
   "id": "4e34cd56",
   "metadata": {},
   "outputs": [
    {
     "data": {
      "text/plain": [
       "<AxesSubplot: >"
      ]
     },
     "execution_count": 26,
     "metadata": {},
     "output_type": "execute_result"
    },
    {
     "data": {
      "image/png": "[encoded data removed]",
      "text/plain": [
       "<Figure size 432x288 with 1 Axes>"
      ]
     },
     "metadata": {
      "needs_background": "light"
     },
     "output_type": "display_data"
    }
   ],
   "source": [
    "t.plot(kind='bar')"
   ]
  },
  {
   "cell_type": "code",
   "execution_count": 28,
   "id": "5aa1350c",
   "metadata": {},
   "outputs": [
    {
     "data": {
      "text/plain": [
       "<AxesSubplot: ylabel='Density'>"
      ]
     },
     "execution_count": 28,
     "metadata": {},
     "output_type": "execute_result"
    },
    {
     "data": {
      "image/png": "[encoded data removed]",
      "text/plain": [
       "<Figure size 432x288 with 1 Axes>"
      ]
     },
     "metadata": {
      "needs_background": "light"
     },
     "output_type": "display_data"
    }
   ],
   "source": [
    "t.plot(kind='kde')\n"
   ]
  },
  {
   "cell_type": "markdown",
   "id": "4bcf0548",
   "metadata": {},
   "source": [
    "# cdf "
   ]
  },
  {
   "cell_type": "code",
   "execution_count": 29,
   "id": "2007d25a",
   "metadata": {},
   "outputs": [
    {
     "data": {
      "text/plain": [
       "2     0.025\n",
       "3     0.094\n",
       "4     0.198\n",
       "5     0.301\n",
       "6     0.432\n",
       "7     0.594\n",
       "8     0.724\n",
       "9     0.837\n",
       "10    0.926\n",
       "11    0.973\n",
       "12    1.000\n",
       "dtype: float64"
      ]
     },
     "execution_count": 29,
     "metadata": {},
     "output_type": "execute_result"
    }
   ],
   "source": [
    "np.cumsum(t)"
   ]
  },
  {
   "cell_type": "code",
   "execution_count": 30,
   "id": "cf0e6365",
   "metadata": {},
   "outputs": [
    {
     "data": {
      "text/plain": [
       "<AxesSubplot: >"
      ]
     },
     "execution_count": 30,
     "metadata": {},
     "output_type": "execute_result"
    },
    {
     "data": {
      "image/png": "[encoded data removed]",
      "text/plain": [
       "<Figure size 432x288 with 1 Axes>"
      ]
     },
     "metadata": {
      "needs_background": "light"
     },
     "output_type": "display_data"
    }
   ],
   "source": [
    "np.cumsum(t).plot(kind=\"bar\")"
   ]
  },
  {
   "cell_type": "markdown",
   "id": "beeed8e4",
   "metadata": {},
   "source": [
    "# pdf (probability density function)\n",
    "* for continuous variable's \n",
    "\n",
    "# parametric"
   ]
  },
  {
   "cell_type": "code",
   "execution_count": 31,
   "id": "9847123a",
   "metadata": {},
   "outputs": [],
   "source": [
    "# gengenerate random sample using mean and std\n",
    "from numpy.random import normal\n",
    "sample = normal(loc=50, scale=5,size=1000)"
   ]
  },
  {
   "cell_type": "code",
   "execution_count": 35,
   "id": "1c81d191",
   "metadata": {},
   "outputs": [
    {
     "data": {
      "text/plain": [
       "(array([  6.,  35.,  69., 153., 226., 193., 177.,  83.,  47.,  11.]),\n",
       " array([35.60322315, 38.34060176, 41.07798038, 43.815359  , 46.55273762,\n",
       "        49.29011624, 52.02749486, 54.76487348, 57.5022521 , 60.23963071,\n",
       "        62.97700933]),\n",
       " <BarContainer object of 10 artists>)"
      ]
     },
     "execution_count": 35,
     "metadata": {},
     "output_type": "execute_result"
    },
    {
     "data": {
      "image/png": "[encoded data removed]",
      "text/plain": [
       "<Figure size 432x288 with 1 Axes>"
      ]
     },
     "metadata": {
      "needs_background": "light"
     },
     "output_type": "display_data"
    }
   ],
   "source": [
    "plt.hist(sample,bins=10)"
   ]
  },
  {
   "cell_type": "code",
   "execution_count": 36,
   "id": "1b2c3ba6",
   "metadata": {},
   "outputs": [],
   "source": [
    "sample_mean = sample.mean()\n",
    "sample_std =sample.std()\n",
    "from scipy.stats import norm\n",
    "dist = norm(sample_mean, sample_std)"
   ]
  },
  {
   "cell_type": "code",
   "execution_count": 37,
   "id": "3719e82c",
   "metadata": {},
   "outputs": [],
   "source": [
    "values = np.linspace(sample.min(),sample.max(),100)"
   ]
  },
  {
   "cell_type": "code",
   "execution_count": 39,
   "id": "22280b53",
   "metadata": {},
   "outputs": [],
   "source": [
    "probabilities = [dist.pdf(value) for value in values]"
   ]
  },
  {
   "cell_type": "code",
   "execution_count": 50,
   "id": "09871dac",
   "metadata": {},
   "outputs": [
    {
     "data": {
      "text/plain": [
       "[<matplotlib.lines.Line2D at 0x26eade4e550>]"
      ]
     },
     "execution_count": 50,
     "metadata": {},
     "output_type": "execute_result"
    },
    {
     "data": {
      "image/png": "[encoded data removed]",
      "text/plain": [
       "<Figure size 432x288 with 1 Axes>"
      ]
     },
     "metadata": {
      "needs_background": "light"
     },
     "output_type": "display_data"
    }
   ],
   "source": [
    "#plot histogram\n",
    "plt.hist(sample,bins=10,density =True)\n",
    "plt.plot(values, probabilities)"
   ]
  },
  {
   "cell_type": "code",
   "execution_count": 53,
   "id": "0c18dc86",
   "metadata": {},
   "outputs": [
    {
     "data": {
      "text/plain": [
       "<seaborn.axisgrid.FacetGrid at 0x26eadf37610>"
      ]
     },
     "execution_count": 53,
     "metadata": {},
     "output_type": "execute_result"
    },
    {
     "data": {
      "image/png": "[encoded data removed]",
      "text/plain": [
       "<Figure size 360x360 with 1 Axes>"
      ]
     },
     "metadata": {
      "needs_background": "light"
     },
     "output_type": "display_data"
    }
   ],
   "source": [
    "sns.displot(sample)"
   ]
  },
  {
   "cell_type": "markdown",
   "id": "a0b53788",
   "metadata": {},
   "source": [
    "# non-parametric\n",
    "\n",
    "    # KDE"
   ]
  },
  {
   "cell_type": "code",
   "execution_count": 56,
   "id": "acd61028",
   "metadata": {},
   "outputs": [],
   "source": [
    "sample1= normal(loc=20,scale=5,size=300)\n",
    "sample2= normal(loc=40,scale=5,size=700)\n",
    "samples = np.hstack((sample1,sample2))\n"
   ]
  },
  {
   "cell_type": "code",
   "execution_count": 57,
   "id": "5ca58fa5",
   "metadata": {},
   "outputs": [
    {
     "data": {
      "text/plain": [
       "(array([ 1.,  0.,  4.,  4.,  6.,  4., 10., 13., 16., 13., 22., 27., 17.,\n",
       "        21., 26., 29., 23., 13., 15., 12.,  9., 11.,  5., 16., 13., 16.,\n",
       "        22., 35., 35., 47., 39., 53., 50., 60., 49., 52., 36., 37., 36.,\n",
       "        37., 21., 13., 15.,  4.,  4.,  3.,  3.,  1.,  1.,  1.]),\n",
       " array([ 6.40913759,  7.41122604,  8.4133145 ,  9.41540296, 10.41749141,\n",
       "        11.41957987, 12.42166833, 13.42375679, 14.42584524, 15.4279337 ,\n",
       "        16.43002216, 17.43211062, 18.43419907, 19.43628753, 20.43837599,\n",
       "        21.44046445, 22.4425529 , 23.44464136, 24.44672982, 25.44881828,\n",
       "        26.45090673, 27.45299519, 28.45508365, 29.4571721 , 30.45926056,\n",
       "        31.46134902, 32.46343748, 33.46552593, 34.46761439, 35.46970285,\n",
       "        36.47179131, 37.47387976, 38.47596822, 39.47805668, 40.48014514,\n",
       "        41.48223359, 42.48432205, 43.48641051, 44.48849897, 45.49058742,\n",
       "        46.49267588, 47.49476434, 48.4968528 , 49.49894125, 50.50102971,\n",
       "        51.50311817, 52.50520662, 53.50729508, 54.50938354, 55.511472  ,\n",
       "        56.51356045]),\n",
       " <BarContainer object of 50 artists>)"
      ]
     },
     "execution_count": 57,
     "metadata": {},
     "output_type": "execute_result"
    },
    {
     "data": {
      "image/png": "[encoded data removed]",
      "text/plain": [
       "<Figure size 432x288 with 1 Axes>"
      ]
     },
     "metadata": {
      "needs_background": "light"
     },
     "output_type": "display_data"
    }
   ],
   "source": [
    "# plot histogram\n",
    "plt.hist(samples,bins=50)"
   ]
  },
  {
   "cell_type": "code",
   "execution_count": 70,
   "id": "f22a5d0e",
   "metadata": {},
   "outputs": [
    {
     "data": {
      "text/plain": [
       "KernelDensity(bandwidth=3)"
      ]
     },
     "execution_count": 70,
     "metadata": {},
     "output_type": "execute_result"
    }
   ],
   "source": [
    "from sklearn.neighbors import KernelDensity\n",
    "model = KernelDensity(bandwidth=3,kernel = \"gaussian\")\n",
    "#convert data into 2D array\n",
    "sample = samples.reshape((len(samples),1))\n",
    "model.fit(sample)\n"
   ]
  },
  {
   "cell_type": "code",
   "execution_count": 71,
   "id": "49babb5a",
   "metadata": {},
   "outputs": [],
   "source": [
    "values = np.linspace(sample.min(),sample.max(),100)\n",
    "values = values.reshape(len(values),1)"
   ]
  },
  {
   "cell_type": "code",
   "execution_count": 72,
   "id": "3d91c774",
   "metadata": {},
   "outputs": [],
   "source": [
    "prob = model.score_samples(values)\n",
    "prob = np.exp(prob)"
   ]
  },
  {
   "cell_type": "code",
   "execution_count": 73,
   "id": "4ce86550",
   "metadata": {},
   "outputs": [
    {
     "data": {
      "image/png": "[encoded data removed]",
      "text/plain": [
       "<Figure size 432x288 with 1 Axes>"
      ]
     },
     "metadata": {
      "needs_background": "light"
     },
     "output_type": "display_data"
    }
   ],
   "source": [
    "plt.hist(sample, bins=50,density=True)\n",
    "plt.plot(values[:],prob)\n",
    "plt.show()"
   ]
  },
  {
   "cell_type": "code",
   "execution_count": 80,
   "id": "3c00beb3",
   "metadata": {},
   "outputs": [
    {
     "data": {
      "text/plain": [
       "<AxesSubplot: ylabel='Density'>"
      ]
     },
     "execution_count": 80,
     "metadata": {},
     "output_type": "execute_result"
    },
    {
     "data": {
      "image/png": "[encoded data removed]",
      "text/plain": [
       "<Figure size 432x288 with 1 Axes>"
      ]
     },
     "metadata": {
      "needs_background": "light"
     },
     "output_type": "display_data"
    }
   ],
   "source": [
    "sns.kdeplot(sample.reshape(1000))\n",
    "#bw_adjust=1"
   ]
  },
  {
   "cell_type": "code",
   "execution_count": null,
   "id": "5800b3aa",
   "metadata": {},
   "outputs": [],
   "source": []
  }
 ],
 "metadata": {
  "kernelspec": {
   "display_name": "Python 3 (ipykernel)",
   "language": "python",
   "name": "python3"
  },
  "language_info": {
   "codemirror_mode": {
    "name": "ipython",
    "version": 3
   },
   "file_extension": ".py",
   "mimetype": "text/x-python",
   "name": "python",
   "nbconvert_exporter": "python",
   "pygments_lexer": "ipython3",
   "version": "3.9.12"
  }
 },
 "nbformat": 4,
 "nbformat_minor": 5
}
